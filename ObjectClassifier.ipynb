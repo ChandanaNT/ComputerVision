{
 "cells": [
  {
   "cell_type": "markdown",
   "metadata": {},
   "source": [
    "import os\n",
    "import cv2\n",
    "import numpy as np\n",
    "from sklearn import tree\n",
    "from operator import itemgetter\n",
    "from sklearn.model_selection import train_test_split\n",
    "from sklearn.naive_bayes import GaussianNB\n",
    "from sklearn.metrics import accuracy_score\n",
    "from sklearn.metrics import confusion_matrix\n",
    "from sklearn.preprocessing import normalize"
   ]
  },
  {
   "cell_type": "code",
   "execution_count": null,
   "metadata": {},
   "outputs": [],
   "source": [
    "category_list = ['brain',  'ketch',  'chandelier']\n",
    "dir = '/Users/chandanathippesh/Desktop/101_ObjectCategories/'"
   ]
  },
  {
   "cell_type": "code",
   "execution_count": null,
   "metadata": {},
   "outputs": [],
   "source": [
    "# SIFT does blurring anyway while detecting keypoints, so it's not necessary to blur the input images\n",
    "sift = cv2.xfeatures2d.SIFT_create()"
   ]
  },
  {
   "cell_type": "markdown",
   "metadata": {},
   "source": [
    "### Extract SIFT descriptors"
   ]
  },
  {
   "cell_type": "code",
   "execution_count": null,
   "metadata": {},
   "outputs": [],
   "source": [
    "Y = []\n",
    "oc = 0\n",
    "sift_keypoints = []\n",
    "sift_descriptors = []\n",
    "num_descriptors = []\n",
    "for catg in category_list:\n",
    "    folder_path = dir+catg\n",
    "    for files in os.walk(folder_path):\n",
    "        filenames_list = files[2]\n",
    "        for image_name in filenames_list:\n",
    "            complete_filename = folder_path+'/'+image_name\n",
    "            img = cv2.imread(complete_filename)\n",
    "            '''cv2.imshow(complete_filename,img)\n",
    "            if cv2.waitKey(0) & 0xff == 27:\n",
    "                cv2.destroyAllWindows()'''\n",
    "            #Detect keypoints & descriptors for input image, keyp is a list, desc is a 2D numpy array\n",
    "            keyp, desc = sift.detectAndCompute(img, None)\n",
    "            sift_keypoints.append(keyp)\n",
    "            sift_descriptors.append(desc)\n",
    "            num_descriptors.append(len(desc))\n",
    "            Y.append(oc)\n",
    "    oc = oc + 1"
   ]
  },
  {
   "cell_type": "code",
   "execution_count": null,
   "metadata": {},
   "outputs": [],
   "source": [
    "#Stack up all the descriptors\n",
    "l = len(sift_descriptors)\n",
    "Z = np.vstack((sift_descriptors[0], sift_descriptors[1]))\n",
    "for i in range(2,l):\n",
    "    Z = np.vstack((Z,sift_descriptors[i]))       "
   ]
  },
  {
   "cell_type": "markdown",
   "metadata": {},
   "source": [
    "### K Means Clustering"
   ]
  },
  {
   "cell_type": "code",
   "execution_count": null,
   "metadata": {},
   "outputs": [],
   "source": [
    "maximum_iterations = 15\n",
    "epsilon = 1\n",
    "num_clusters = 100\n",
    "criteria = (cv2.TERM_CRITERIA_EPS + cv2.TERM_CRITERIA_MAX_ITER, maximum_iterations, epsilon)\n",
    "ret,label,center=cv2.kmeans(Z, num_clusters, None, criteria,10, cv2.KMEANS_RANDOM_CENTERS)"
   ]
  },
  {
   "cell_type": "code",
   "execution_count": null,
   "metadata": {},
   "outputs": [],
   "source": [
    "start = 0\n",
    "X = []\n",
    "for i in range(l):\n",
    "    image_labels = label[start:start+num_descriptors[i]]\n",
    "    start = start + num_descriptors[i]\n",
    "    bogw = []\n",
    "    for val in range(num_clusters):\n",
    "        bogw.append((image_labels==val).sum())\n",
    "    X.append(bogw)"
   ]
  },
  {
   "cell_type": "code",
   "execution_count": null,
   "metadata": {},
   "outputs": [],
   "source": [
    "X = np.array(X)\n",
    "Y = np.array(Y)"
   ]
  },
  {
   "cell_type": "code",
   "execution_count": null,
   "metadata": {},
   "outputs": [],
   "source": [
    "#Split dataset into training and test\n",
    "X_train, X_test, Y_train, Y_test = train_test_split(X, Y, test_size=0.33, random_state=42)"
   ]
  },
  {
   "cell_type": "markdown",
   "metadata": {},
   "source": [
    "### Naive Bayes Classifier"
   ]
  },
  {
   "cell_type": "code",
   "execution_count": null,
   "metadata": {},
   "outputs": [],
   "source": [
    "#Training \n",
    "clf = GaussianNB()\n",
    "clf.fit(X_train, Y_train.flatten())"
   ]
  },
  {
   "cell_type": "code",
   "execution_count": null,
   "metadata": {},
   "outputs": [],
   "source": [
    "#Inference\n",
    "Y_predicted = clf.predict(X_test)\n",
    "print(accuracy_score(Y_test,Y_predicted))"
   ]
  },
  {
   "cell_type": "code",
   "execution_count": null,
   "metadata": {},
   "outputs": [],
   "source": [
    "confusion_matrix(Y_test, Y_predicted)"
   ]
  },
  {
   "cell_type": "markdown",
   "metadata": {},
   "source": [
    "### Descision Tree"
   ]
  },
  {
   "cell_type": "code",
   "execution_count": null,
   "metadata": {},
   "outputs": [],
   "source": [
    "clf = tree.DecisionTreeClassifier()\n",
    "clf = clf.fit(X_train, Y_train)"
   ]
  },
  {
   "cell_type": "code",
   "execution_count": null,
   "metadata": {},
   "outputs": [],
   "source": [
    "#Inference\n",
    "Y_predicted = clf.predict(X_test)\n",
    "print(accuracy_score(Y_test,Y_predicted))"
   ]
  },
  {
   "cell_type": "code",
   "execution_count": null,
   "metadata": {},
   "outputs": [],
   "source": [
    "confusion_matrix(Y_test, Y_predicted)"
   ]
  },
  {
   "cell_type": "markdown",
   "metadata": {},
   "source": [
    "### Cross Validation"
   ]
  },
  {
   "cell_type": "code",
   "execution_count": null,
   "metadata": {},
   "outputs": [],
   "source": [
    "from sklearn.model_selection import cross_val_score"
   ]
  },
  {
   "cell_type": "code",
   "execution_count": null,
   "metadata": {},
   "outputs": [],
   "source": [
    "clf = tree.DecisionTreeClassifier()\n",
    "scores = cross_val_score(clf, X, Y, cv=6)"
   ]
  },
  {
   "cell_type": "code",
   "execution_count": null,
   "metadata": {},
   "outputs": [],
   "source": [
    "scores"
   ]
  },
  {
   "cell_type": "code",
   "execution_count": null,
   "metadata": {},
   "outputs": [],
   "source": [
    "print(\"Accuracy: %0.2f (+/- %0.2f)\" % (scores.mean(), scores.std() * 2))"
   ]
  },
  {
   "cell_type": "markdown",
   "metadata": {},
   "source": [
    "### Normalize the Data"
   ]
  },
  {
   "cell_type": "code",
   "execution_count": null,
   "metadata": {},
   "outputs": [],
   "source": [
    "X_normalised = normalize(X)"
   ]
  },
  {
   "cell_type": "code",
   "execution_count": null,
   "metadata": {},
   "outputs": [],
   "source": [
    "#Split dataset into training and test\n",
    "X_train, X_test, Y_train, Y_test = train_test_split(X_normalised,Y, test_size=0.2, random_state=42)"
   ]
  },
  {
   "cell_type": "code",
   "execution_count": null,
   "metadata": {},
   "outputs": [],
   "source": [
    "#Training \n",
    "clf = GaussianNB()\n",
    "clf.fit(X_train, Y_train.flatten())\n",
    "#Inference\n",
    "Y_predicted = clf.predict(X_test)\n",
    "print(accuracy_score(Y_test,Y_predicted))\n",
    "confusion_matrix(Y_test, Y_predicted)"
   ]
  },
  {
   "cell_type": "code",
   "execution_count": null,
   "metadata": {},
   "outputs": [],
   "source": [
    "#Training\n",
    "clf = tree.DecisionTreeClassifier()\n",
    "clf = clf.fit(X_train, Y_train)\n",
    "#Inference\n",
    "Y_predicted = clf.predict(X_test)\n",
    "print(accuracy_score(Y_test,Y_predicted))\n",
    "confusion_matrix(Y_test, Y_predicted)"
   ]
  },
  {
   "cell_type": "code",
   "execution_count": null,
   "metadata": {},
   "outputs": [],
   "source": [
    "#Try using class_weight = \"balanced\" to assign weights to classes depending on # of samples in the classes\n",
    "clf = tree.DecisionTreeClassifier(class_weight=\"balanced\")\n",
    "clf = clf.fit(X_train, Y_train)\n",
    "#Inference\n",
    "Y_predicted = clf.predict(X_test)\n",
    "print(accuracy_score(Y_test,Y_predicted))"
   ]
  },
  {
   "cell_type": "code",
   "execution_count": null,
   "metadata": {},
   "outputs": [],
   "source": []
  }
 ],
 "metadata": {
  "kernelspec": {
   "display_name": "Python 3",
   "language": "python",
   "name": "python3"
  },
  "language_info": {
   "codemirror_mode": {
    "name": "ipython",
    "version": 3
   },
   "file_extension": ".py",
   "mimetype": "text/x-python",
   "name": "python",
   "nbconvert_exporter": "python",
   "pygments_lexer": "ipython3",
   "version": "3.5.4"
  }
 },
 "nbformat": 4,
 "nbformat_minor": 2
}
